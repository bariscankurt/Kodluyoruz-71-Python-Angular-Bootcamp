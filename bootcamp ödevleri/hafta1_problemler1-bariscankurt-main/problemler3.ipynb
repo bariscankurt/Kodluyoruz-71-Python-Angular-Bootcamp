{
 "cells": [
  {
   "cell_type": "markdown",
   "metadata": {},
   "source": [
    "# Bölüm A"
   ]
  },
  {
   "cell_type": "markdown",
   "metadata": {},
   "source": [
    "Bu alıştırma için arkadaşlarımızın doğum günlerinin ne zaman olduğunu takip edeceğiz ve bu bilgileri isimlerine göre bulabileceğiz. İsim ve doğum günlerinden oluşan bir sözlük (dosyası) oluşturalım. Programımızı çalıştırdığınızda, kullanıcıdan bir isim girmesini ve o kişinin doğum gününü kendisine bildirmesini istemelidir. Etkileşim şunun gibi görünmelidir:\n",
    "\n",
    "```python\n",
    ">>> Doğum günü sözlüğüne hoş geldiniz. Bu kişilerin doğum günlerini biliyoruz:\n",
    "Kemal Sunal\n",
    "Adile Naşit\n",
    "Münir Özkul\n",
    "Türkan Şoray\n",
    ">>> Hangisinin doğum gününü öğrenmek istersin?\n",
    "Türkan Şoray\n",
    ">>> Türkan Şoray'ın doğum günü 28/07/1945.\n",
    "```"
   ]
  },
  {
   "cell_type": "markdown",
   "metadata": {},
   "source": [
    "# Çözüm"
   ]
  },
  {
   "cell_type": "code",
   "execution_count": 6,
   "metadata": {},
   "outputs": [
    {
     "name": "stdout",
     "output_type": "stream",
     "text": [
      ">>>Doğum günü sözlüğüne hoş geldiniz. Bu kişilerin doğum günlerini biliyoruz: \n",
      "BARIŞ CAN KURT\n",
      "BURAK ŞEN\n",
      "NAGİHAN UĞUR\n",
      "OMAR ALKADRİ\n",
      ">>>Hangisinin doğum gününü öğrenmek istersin? \n",
      " barış can kurt\n",
      "BARIŞ CAN KURT'un doğum günü 18/10/1995.\n"
     ]
    }
   ],
   "source": [
    "birthDayDict = {\n",
    "    \"BARIŞ CAN KURT\":\"18/10/1995\",\n",
    "    \"BURAK ŞEN\":\"16/07/1994\",\n",
    "    \"NAGİHAN UĞUR\":\"01/01/99\",\n",
    "    \"OMAR ALKADRİ\":\"01/01/97\"\n",
    "}\n",
    "\n",
    "print(\">>>Doğum günü sözlüğüne hoş geldiniz. Bu kişilerin doğum günlerini biliyoruz: \")\n",
    "for key in birthDayDict:\n",
    "    print(key)\n",
    "name = str(input(\">>>Hangisinin doğum gününü öğrenmek istersin? \\n \")).upper()\n",
    "print(str(name) + \"'un doğum günü \" + birthDayDict[name] + \".\")"
   ]
  },
  {
   "cell_type": "markdown",
   "metadata": {},
   "source": [
    "# Bölüm B"
   ]
  },
  {
   "cell_type": "markdown",
   "metadata": {},
   "source": [
    "Bir Pisagor üçlüsü, üç doğal sayı kümesidir, $a <b <c$, için,\n",
    "\n",
    "$$a^{2}+b^{2}=c^{2}$$\n",
    "\n",
    "Örneğin, $3^{2}+4^{2} = 9+16 = 5^{2}$\n",
    "\n",
    "Toplamı $a + b + c = 1000$ olan tam olarak bir Pisagor üçlüsü vardır.\n",
    "\n",
    "$abc$ çarpımını bulalım."
   ]
  },
  {
   "cell_type": "markdown",
   "metadata": {},
   "source": [
    "# Çözüm"
   ]
  },
  {
   "cell_type": "code",
   "execution_count": 7,
   "metadata": {},
   "outputs": [
    {
     "name": "stdout",
     "output_type": "stream",
     "text": [
      "a = 200, b = 375, c = 425\n",
      "a*b*c = 31875000.0\n"
     ]
    }
   ],
   "source": [
    "import math\n",
    "new_list = []\n",
    "def pythagorean_triplet(n):\n",
    "  for b in range(n):\n",
    "    for a in range(1, b):\n",
    "        c = math.sqrt( a * a + b * b)\n",
    "        if c % 1 == 0:\n",
    "          if a+b+c==n:\n",
    "            new_list=[a,b,c]\n",
    "            new_list.sort()\n",
    "            print(f\"a = {a}, b = {b}, c = {int(c)}\")\n",
    "            print(f\"a*b*c = {a*b*c}\")\n",
    "pythagorean_triplet(1000)"
   ]
  }
 ],
 "metadata": {
  "kernelspec": {
   "display_name": "Python 3",
   "language": "python",
   "name": "python3"
  },
  "language_info": {
   "codemirror_mode": {
    "name": "ipython",
    "version": 3
   },
   "file_extension": ".py",
   "mimetype": "text/x-python",
   "name": "python",
   "nbconvert_exporter": "python",
   "pygments_lexer": "ipython3",
   "version": "3.8.5"
  }
 },
 "nbformat": 4,
 "nbformat_minor": 4
}
