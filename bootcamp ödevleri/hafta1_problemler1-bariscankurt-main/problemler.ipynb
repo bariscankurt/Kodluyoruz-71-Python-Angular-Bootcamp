{
 "cells": [
  {
   "cell_type": "code",
   "execution_count": null,
   "metadata": {},
   "outputs": [],
   "source": []
  },
  {
   "cell_type": "code",
   "execution_count": null,
   "metadata": {},
   "outputs": [],
   "source": []
  },
  {
   "cell_type": "markdown",
   "metadata": {},
   "source": [
    "# Bölüm A"
   ]
  },
  {
   "cell_type": "markdown",
   "metadata": {},
   "source": [
    "Üniversiteden mezun oldunuz ve şimdi harika bir işiniz var! İstanbul'da Etiler'e taşınıyorsunuz ve bir ev satın almak için tasarruf etmeye başlamak istediğinize karar veriyorsunuz. Etiler'de konut fiyatları çok yüksek olduğu için, bir evin peşinatını ödeyebilmeniz için birkaç yıl tasarruf etmeniz gerekeceğini fark ediyorsunuz. Bölüm A'da, aşağıdaki varsayımlara göre peşinatı ödemeye yetecek kadar para biriktirmenizin ne kadar süreceğini belirleyeceğiz:"
   ]
  },
  {
   "cell_type": "markdown",
   "metadata": {},
   "source": [
    "* 1.Hayalinizdeki evin maliyetini `toplam_maliyet` olarak tanımlayalım.\n",
    "* 2.Maliyetin peşinatı için gereken kısmı `peşinat_oranı` olarak tanımlayalım. Basit olması için, `peşinat_oranı = 0.25 (% 25)` olarak varsayalım.\n",
    "* 3. Şu ana kadar biriktirdiğiniz tutarı `mevcut_tasarruflar` olarak adlandıralım. Varsayıaln olarak 0 TL'lik mevcut * tasarrufla başlarsınız.\n",
    "* 4. Mevcut birikimlerinize akıllıca yatırım yaptığımızı ve yıllık `r` cinsinden (diğer bir deyişle, her ayın sonunda, birikimlerinize koymak için ek bir `mevcut_tasarruflar * r / 12` fon aldığınızı varsayalım - 12 yıllık bir orandır). Yatırımlarımızın r = 0,04 (% 4) getiri kazandığını varsayalım.\n",
    "* 5. Yıllık maaşımızın `yıllık_maaş` olduğunu varsayalım.\n",
    "* 6. Her ay maaşımızın belirli bir miktarını peşinat için biriktirmeye ayıracağımızı varsayalım. Bunu `tasarruf_edilen_oran` olarak adlandıralım. Bu değişken ondalık biçimde olmalıdır (yani % 10 için 0,1).\n",
    "* 7. Her ayın sonunda, yatırımımızın geri dönüşü artı **aylık maaş**ımızın bir yüzdesi (yıllık maaş / 12) ile tasarruflarınız artırılacaktır."
   ]
  },
  {
   "cell_type": "markdown",
   "metadata": {},
   "source": [
    "Peşinat için yeterince para biriktirmemizin kaç ay süreceğini hesaplamak için bir program yazalım. Ana değişkenlerimizin `float` olmasını isteyeceğizdir, bu nedenle kullanıcı girdilerini `float`'lara çevirmelisiyiz."
   ]
  },
  {
   "cell_type": "markdown",
   "metadata": {},
   "source": [
    "Programımız, kullanıcıdan aşağıdaki değişkenleri girmesini istemelidir:\n",
    "* 1. Yıllık başlangıç maaşı (**yıllık_maaş**)\n",
    "* 2. Maaşın biriktirilecek kısmı (**tasarruf_edilen_oran**)\n",
    "* 3. Hayalimizdeki evin maliyeti (**toplam_maliyet**)"
   ]
  },
  {
   "cell_type": "markdown",
   "metadata": {},
   "source": [
    "**İpucu**\n",
    "\n",
    "Başlamamıza yardımcı olmak için, kodumuzu yazarken muhtemelen izlememiz gereken aşamaların kabaca bir özetini burada bulabiliriz:\n",
    "\n",
    "* Kullanıcı girdisini alalım. Kullanıcı girdisi alma konusunda yardıma ihtiyacımız varsa `input()` öğesine bakalım. Bu problem seti için, kullanıcıların geçerli bir girdi gireceğini varsayabiliriz (örneğin, bir `int` beklediğinizde bir `dize` girmeyeceklerdir)\n",
    "* Bazı durum değişkenlerini (state variables) baştan tanımlayalım. Hangi bilgilere ihtiyacımız olduğuna karar vermeliyiz. Yıllık tutarları ve aylık tutarları temsil eden değerlere dikkat edelim."
   ]
  },
  {
   "cell_type": "markdown",
   "metadata": {},
   "source": [
    "Farklı girdileri deneyelim ve bir peşinat için tasarruf etmenin ne kadar sürdüğünü görelim. Programımız sonuçları aşağıdaki formatta vermelidir:\n",
    "\n",
    "Örnek 1:\n",
    "\n",
    "```python\n",
    "Yıllık maaşınızı girin: 120000\n",
    "Maaşınızın tasarruf etmek istediğiniz yüzdesini, ondalık olarak girin: .10\n",
    "Hayalinizdeki evin maliyetini girin: 1000000\n",
    "Ay sayısı: 183 \n",
    "```\n",
    "\n",
    "Örnek 2:\n",
    "```python\n",
    "Yıllık maaşınızı girin: 80000\n",
    "Maaşınızın tasarruf etmek istediğiniz yüzdesini, ondalık olarak girin: .15\n",
    "Hayalinizdeki evin maliyetini girin: 500000\n",
    "Ay sayısı: 105 \n",
    "```"
   ]
  },
  {
   "cell_type": "markdown",
   "metadata": {},
   "source": [
    "# ÇÖZÜM"
   ]
  },
  {
   "cell_type": "code",
   "execution_count": 3,
   "metadata": {},
   "outputs": [
    {
     "name": "stdout",
     "output_type": "stream",
     "text": [
      "Yillik maasinizi giriniz: 80000\n",
      "Maasinizin tasarruf etmek istediginiz yuzdesini, ondalik olarak giriniz: .15\n",
      "Hayalinizdeki evin maaliyetini giriniz: 500000\n",
      "\n",
      "105 ay\n"
     ]
    }
   ],
   "source": [
    "def process(yillik_maas,tasarruf_edilen_oran,toplam_maliyet):\n",
    "    pesinat_orani = 0.25\n",
    "    mevcut_tasarruflar = 0.0\n",
    "    ay_sayisi = 0\n",
    "    r = 0.04\n",
    "    pesinat_miktari = toplam_maliyet * pesinat_orani\n",
    "    if tasarruf_edilen_oran>1:\n",
    "        print(\"Tasarruf edilen oran %100'den yani 1'den büyük olamaz!\")\n",
    "        program()\n",
    "    if yillik_maas<=0:\n",
    "        print(\"Yillik maas 0'dan küçük veya eşit olamaz!\")\n",
    "        program()\n",
    "    if toplam_maliyet<=0:\n",
    "        print(\"Evin fiyatı 0'dan küçük veya eşit olamaz!\")\n",
    "        program()        \n",
    "    while mevcut_tasarruflar < pesinat_miktari:\n",
    "        mevcut_tasarruflar = mevcut_tasarruflar + (yillik_maas / 12 * tasarruf_edilen_oran) + ((mevcut_tasarruflar * r) /12)\n",
    "        ay_sayisi += 1\n",
    "    print( \"\\n\" + str(ay_sayisi) + \" ay\")\n",
    "\n",
    "def program():\n",
    "    yillik_maas = float(input(\"Yillik maasinizi giriniz: \"))\n",
    "    tasarruf_edilen_oran = float(input(\"Maasinizin tasarruf etmek istediginiz yuzdesini, ondalik olarak giriniz: \"))\n",
    "    toplam_maliyet = float(input(\"Hayalinizdeki evin maaliyetini giriniz: \"))\n",
    "    \n",
    "    process(yillik_maas,tasarruf_edilen_oran,toplam_maliyet)\n",
    "\n",
    "program()"
   ]
  },
  {
   "cell_type": "markdown",
   "metadata": {},
   "source": [
    "# Bölüm B"
   ]
  },
  {
   "cell_type": "markdown",
   "metadata": {},
   "source": [
    "Bölüm A'da gerçekçi olmayan bir biçimde maaşımızın değişmediğini varsaydık. Fakat gerçekten iyi çalışıyruz ve şirketimiz için oldukça değerliyiz. Bölüm A'daki çözümümüz üzerine, her 6 ayda bir maaşımıza zam yapıldığını varsayacağız."
   ]
  },
  {
   "cell_type": "markdown",
   "metadata": {},
   "source": [
    "Bölüm A'da yazdığımız programı geliştirelim:\n",
    "\n",
    "* 1. Kulanıcıdan yarıyıl maaş zammı oranını `yaryıyıl_maaş_zammı_oranı` (ondalık yüzde olarak) girdi olarak alalım.\n",
    "* 2. 6-ıncı aydan sonra maaşımız bu yüzde ile artsın. Aynı artış, 12-inci aydan sonra da, 18-inci aydan sonra da vs. gerçekleşsin."
   ]
  },
  {
   "cell_type": "markdown",
   "metadata": {},
   "source": [
    "Peşinat için yeterince para biriktirmenin kaç ay süreceğini hesaplamak için bir program yazalım. Daha önce, yatırımlarımızın r = 0,04 (veya % 4) getiri kazandığını ve gerekli peşinat yüzdesinin 0,25 (veya % 25) olduğunu varsayalım. Kullanıcı aşağıdaki değişkenleri girsin:\n",
    "\n",
    "* 1. Yıllık başlangıç maaşı (**yıllık_maaş**)\n",
    "* 2. Maaşın biriktirilecek kısmı (**tasarruf_edilen_oran**)\n",
    "* 3. Hayalimizdeki evin maliyeti (**toplam_maliyet**)\n",
    "* 4. Yarıyıl maaş oranı (**yarıyıl_maaş_zammı_oranı**)"
   ]
  },
  {
   "cell_type": "markdown",
   "metadata": {},
   "source": [
    "**İpucu**\n",
    "\n",
    "Başlamamıza yardımcı olmak için, kodumuzu yazarken muhtemelen izlememiz gereken aşamaların kabaca bir özetini burada bulabiliriz:\n",
    "\n",
    "* Kullanıcıdan girdileri alalım.\n",
    "* Bazı durum değişkenlerini (state variables) baştan tanımlayalım. Hangi bilgilere ihtiyacımız olduğuna karar vermeliyiz. Yıllık tutarları ve aylık tutarları temsil eden değerlere dikkat edelim.\n",
    "* Maaşınızı ne zaman artıracağınıza dikkat edelim - bu yalnızca 6., 12., 18. aydan sonra olmalıdır."
   ]
  },
  {
   "cell_type": "markdown",
   "metadata": {},
   "source": [
    "# ÇÖZÜM"
   ]
  },
  {
   "cell_type": "code",
   "execution_count": 4,
   "metadata": {},
   "outputs": [
    {
     "name": "stdout",
     "output_type": "stream",
     "text": [
      "Yillik maasinizi giriniz: 80000\n",
      "Maasinizin tasarruf etmek istediginiz yuzdesini, ondalik olarak giriniz: .15\n",
      "Hayalinizdeki evin maaliyetini giriniz: 500000\n",
      "Yarıyıl maaş zammi oranininizi giriniz: .10\n",
      "\n",
      "67 ay\n"
     ]
    }
   ],
   "source": [
    "def process(yillik_maas,tasarruf_edilen_oran,toplam_maliyet,yariyil_maas_zammi_orani):\n",
    "    pesinat_orani = 0.25\n",
    "    mevcut_tasarruflar = 0.0\n",
    "    ay_sayisi = 0\n",
    "    r = 0.04\n",
    "    pesinat_miktari = toplam_maliyet * pesinat_orani\n",
    "    if tasarruf_edilen_oran>1:\n",
    "        print(\"Tasarruf edilen oran %100'den yani 1'den büyük olamaz!\")\n",
    "        program()\n",
    "    if yillik_maas<=0:\n",
    "        print(\"Yillik maas 0'dan küçük veya eşit olamaz!\")\n",
    "        program()\n",
    "    if toplam_maliyet<=0:\n",
    "        print(\"Evin fiyatı 0'dan küçük veya eşit olamaz!\")\n",
    "        program()        \n",
    "    while mevcut_tasarruflar < pesinat_miktari:\n",
    "        mevcut_tasarruflar = mevcut_tasarruflar + (yillik_maas / 12 * tasarruf_edilen_oran) + ((mevcut_tasarruflar * r) /12)\n",
    "        ay_sayisi += 1\n",
    "        if ay_sayisi % 6 == 0:\n",
    "            yillik_maas = yillik_maas + yillik_maas * yariyil_maas_zammi_orani\n",
    "    print( \"\\n\" + str(ay_sayisi) + \" ay\")\n",
    "\n",
    "def program():\n",
    "    yillik_maas = float(input(\"Yillik maasinizi giriniz: \"))\n",
    "    tasarruf_edilen_oran = float(input(\"Maasinizin tasarruf etmek istediginiz yuzdesini, ondalik olarak giriniz: \"))\n",
    "    toplam_maliyet = float(input(\"Hayalinizdeki evin maaliyetini giriniz: \"))\n",
    "    yariyil_maas_zammi_orani = float(input(\"Yarıyıl maaş zammi oranininizi giriniz: \"))\n",
    "    process(yillik_maas,tasarruf_edilen_oran,toplam_maliyet,yariyil_maas_zammi_orani)\n",
    "\n",
    "program()"
   ]
  },
  {
   "cell_type": "code",
   "execution_count": null,
   "metadata": {},
   "outputs": [],
   "source": []
  },
  {
   "cell_type": "code",
   "execution_count": null,
   "metadata": {},
   "outputs": [],
   "source": []
  },
  {
   "cell_type": "code",
   "execution_count": null,
   "metadata": {},
   "outputs": [],
   "source": []
  },
  {
   "cell_type": "code",
   "execution_count": null,
   "metadata": {},
   "outputs": [],
   "source": []
  },
  {
   "cell_type": "code",
   "execution_count": null,
   "metadata": {},
   "outputs": [],
   "source": []
  },
  {
   "cell_type": "code",
   "execution_count": null,
   "metadata": {},
   "outputs": [],
   "source": []
  },
  {
   "cell_type": "code",
   "execution_count": null,
   "metadata": {},
   "outputs": [],
   "source": []
  },
  {
   "cell_type": "code",
   "execution_count": null,
   "metadata": {},
   "outputs": [],
   "source": []
  },
  {
   "cell_type": "code",
   "execution_count": null,
   "metadata": {},
   "outputs": [],
   "source": []
  },
  {
   "cell_type": "code",
   "execution_count": null,
   "metadata": {},
   "outputs": [],
   "source": []
  },
  {
   "cell_type": "code",
   "execution_count": null,
   "metadata": {},
   "outputs": [],
   "source": []
  }
 ],
 "metadata": {
  "kernelspec": {
   "display_name": "Python 3",
   "language": "python",
   "name": "python3"
  },
  "language_info": {
   "codemirror_mode": {
    "name": "ipython",
    "version": 3
   },
   "file_extension": ".py",
   "mimetype": "text/x-python",
   "name": "python",
   "nbconvert_exporter": "python",
   "pygments_lexer": "ipython3",
   "version": "3.8.5"
  }
 },
 "nbformat": 4,
 "nbformat_minor": 4
}
