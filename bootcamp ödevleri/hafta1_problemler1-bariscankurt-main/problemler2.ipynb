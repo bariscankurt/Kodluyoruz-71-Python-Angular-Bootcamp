{
 "cells": [
  {
   "cell_type": "markdown",
   "metadata": {},
   "source": [
    "# Bölüm A"
   ]
  },
  {
   "cell_type": "markdown",
   "metadata": {},
   "source": [
    "İki oyunculu bir Taş-Kağıt-Makas oyunu yapalım.\n",
    "\n",
    "**İpucu:** \n",
    "\n",
    "Oyuncudan oyunlarını isteyip (`input()` kullanarak), karşılaştıralım, kazananı tebrik eden bir mesaj yazdıralım ve oyuncuların yeni bir oyuna başlamak isteyip istemediğini soralım)"
   ]
  },
  {
   "cell_type": "markdown",
   "metadata": {},
   "source": [
    "# Çözüm"
   ]
  },
  {
   "cell_type": "code",
   "execution_count": 5,
   "metadata": {},
   "outputs": [
    {
     "name": "stdout",
     "output_type": "stream",
     "text": [
      "Pick rock, paper or scissors for player one: Rock\n",
      "Pick rock, paper or scissors for player two: SciSSors\n",
      "Player one wins!\n",
      "Do you want to play again? Y or N?\n",
      "n\n",
      "Thanks for playing.\n"
     ]
    }
   ],
   "source": [
    "devam=True\n",
    "while devam:\n",
    "    if devam==True:\n",
    "        a=str(input(\"Pick rock, paper or scissors for player one: \")).lower()\n",
    "        b=str(input(\"Pick rock, paper or scissors for player two: \")).lower()\n",
    "\n",
    "        if ((a==\"rock\" and b==\"scissors\") or (a==\"paper\" and b==\"rock\") or (a==\"scissors\" and b==\"paper\")):\n",
    "            print(\"Player one wins!\")\n",
    "        elif a.__contains__(b):\n",
    "            print(\"Player one and two tied\")\n",
    "        else:\n",
    "            print(\"Player two wins!\")\n",
    "            \n",
    "    print(\"Do you want to play again? Y or N?\")\n",
    "    c = input()\n",
    "    if c==\"Y\":\n",
    "        devam=True\n",
    "    else:\n",
    "        print(\"Thanks for playing.\")\n",
    "        break"
   ]
  },
  {
   "cell_type": "markdown",
   "metadata": {},
   "source": [
    "# Bölüm B"
   ]
  },
  {
   "cell_type": "markdown",
   "metadata": {},
   "source": [
    "Diyelim ki bize bir değişkene kaydedilmiş bir liste vermiş olsunlar: `a = [1, 4, 9, 16, 25, 36, 49, 64, 81, 100]`. Bu listeyi alan ve içinde bu listenin yalnızca çift öğelerini içeren yeni bir liste oluşturan bir Python satırı yazın (ne kadar az satırda olursa o kadar iyidir :) )."
   ]
  },
  {
   "cell_type": "markdown",
   "metadata": {},
   "source": [
    "# Çözüm"
   ]
  },
  {
   "cell_type": "code",
   "execution_count": 4,
   "metadata": {},
   "outputs": [
    {
     "name": "stdout",
     "output_type": "stream",
     "text": [
      "[4, 16, 36, 64, 100]\n"
     ]
    }
   ],
   "source": [
    "listTemp = [1, 4, 9, 16, 25, 36, 49, 64, 81, 100]\n",
    "\n",
    "newList = []\n",
    "newList = [a for a in listTemp if a%2==0]\n",
    "\n",
    "print(newList)"
   ]
  }
 ],
 "metadata": {
  "kernelspec": {
   "display_name": "Python 3",
   "language": "python",
   "name": "python3"
  },
  "language_info": {
   "codemirror_mode": {
    "name": "ipython",
    "version": 3
   },
   "file_extension": ".py",
   "mimetype": "text/x-python",
   "name": "python",
   "nbconvert_exporter": "python",
   "pygments_lexer": "ipython3",
   "version": "3.8.5"
  }
 },
 "nbformat": 4,
 "nbformat_minor": 4
}
