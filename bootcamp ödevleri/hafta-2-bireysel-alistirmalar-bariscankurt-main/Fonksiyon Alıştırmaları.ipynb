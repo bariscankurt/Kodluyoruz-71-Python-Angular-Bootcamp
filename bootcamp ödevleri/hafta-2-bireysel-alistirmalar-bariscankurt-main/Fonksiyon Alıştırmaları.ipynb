{
 "cells": [
  {
   "cell_type": "markdown",
   "metadata": {},
   "source": [
    "<ul>\n",
    "\t<li>Fonksiyona verilen en küçük parametreyi bulma</li>\n",
    "\t<li>Fibonacci sayıları</li>\n",
    "\t<li>Satranç atının gidebileceği kareler</li>\n",
    "\t<li>Karekök fonksiyonu</li>\n",
    "\t<li>Machin formülü ile pi'yi bulmak</li>\n",
    "\t<li>İkinci derece denklem kökleri</li>\n",
    "\t<li>Mükemmel sayılar</li>\n",
    "</ul>\n",
    "\n",
    "En küçük parametre değeri\n",
    "-------------------\n",
    "Belirsiz sayıda sayısal parametre alıp, parametreler arasındaki en küçük değeri geri veren bir fonksiyon yazın. (İpucu: Parametre paketlemesi kullandığımızda bütün parametrelerin fonksiyon içinde bir çokuza toplandığını görmüştük. Bu çokuz üzerinde bir döngüyle en küçük değeri bulabilirsiniz.)\n",
    "\n",
    "Örnekler:\n",
    "\n",
    "    enkucuk(7)\n",
    "    7\n",
    "    \n",
    "    enkucuk(3,1,4)\n",
    "    1\n",
    "    \n",
    "    enkucuk(1,2,3,-1,4,-2,5)\n",
    "    -2\n",
    "Parametre listesi boş ise `None` dönsün (`return None` komutunu kullanın).\n",
    "\n",
    "    enkucuk()\n",
    "    None\n",
    "\n",
    "Fibonacci sayıları\n",
    "--------------------\n",
    "İlk `n` Fibonacci sayısını bir liste halinde veren bir fonksiyon yazın. Örnekler:\n",
    "\n",
    "    fib(0)\n",
    "    []\n",
    "    \n",
    "    fib(1)\n",
    "    [1]\n",
    "    \n",
    "    fib(2)\n",
    "    [1, 1]\n",
    "    \n",
    "    fib(10)\n",
    "    [1, 1, 2, 3, 5, 8, 13, 21, 34, 55]\n",
    "\n",
    "Satranç atının hareketi\n",
    "---------------------------\n",
    "Satranç tahtasında at L biçiminde hareket eder: Şekilde gösterildiği gibi bir yönde iki kare, sonra ona dik olarak bir kare.\n",
    "\n",
    "<img src=\"img/satranc_at.png\" />\n",
    "\n",
    "Atın tahtadaki pozisyonunu iki parametre olarak alan ve gidebileceği karelerin listesini veren bir fonksiyon yazın. Her kareyi bir ikili çokuzla gösterin, `('a',1)`, `('g',5)` gibi. At tahtanın sınırlarına yakınsa, tahtanın dışına çıkacak hamleleri eleyin.\n",
    "\n",
    "Örnek:\n",
    "    \n",
    "    athareket('d', 7)\n",
    "    [('c',5),('e',5),('b',6),('f',6),('b',8),('f',8)]\n",
    "    \n",
    "    athareket('f',3)\n",
    "    [('d',2),('d',4),('e',1),('e',5),('g',5),('g',1),('h',4),('h',2)]\n",
    "\n",
    "Karekök fonksiyonu\n",
    "---------------------\n",
    "Verilen bir $N$ sayısının karekökünü bulmak için Babil döneminden beri kullanılan tekrarlamalı (iteratif) bir yöntem vardır: Önce, karekök için bir tahminde bulunun ve buna $x_0$ deyin. Bir sonraki tahminimiz\n",
    "$$x_1 = \\frac{1}{2}\\left(x_0 + N/x_0\\right)$$\n",
    "olacak. Genel olarak,\n",
    "$$x_{n+1} = \\frac{1}{2}\\left(x_n + N/x_n\\right)$$\n",
    "kuralıyla ardışık iterasyonlar yaparsak, $x_n$ değerleri hızlıca $N$'nin kareköküne yakınsayacaktır.\n",
    "\n",
    "Bu yöntem, fonksiyon köklerini bulmak için kullanılan en iyi algoritmalardan biri olan Newton yönteminin özel bir durumudur.\n",
    "\n",
    "Bu algoritmayı kullanarak, bir sayının karekökünü veren bir fonksiyon yazın.\n",
    "\n",
    "Parametreler:\n",
    "* Karekökü alınacak sayı `N`.\n",
    "* İlk tahmin `x0`.\n",
    "* Tolerans `tol`. Varsayılan değer $10^{-10}$.\n",
    "* Azami iterasyon sayısı `maxiter`. Varsayılan değer 10.\n",
    "\n",
    "Sonuç:\n",
    "* `N`'nin karekökü için en iyi tahmin\n",
    "\n",
    "Fonksiyon içinde, yukarıdaki formülü tekrar tekrar işleterek daha iyi tahminlere ulaşan bir döngü yazın. Her adıımda, hata değeri $|x_n^2 - N|$ ile tolerans `tol` karşılaştırılsın. Hata,i toleransın altına düşünce döngü sonlansın. Ayrıca, döngü iterasyonları sayısı `maxiter`'den fazla olursa yine döngü sonlansın. Bu durumda bir uyarı mesajı ekrana yazılsın ve fonksiyon döngüde elde edilen son sonucu versin. \n",
    "\n",
    "Örnekler:\n",
    "\n",
    "    karekok(N=10, x0=1)\n",
    "    3.162277660168379\n",
    "    \n",
    "    karekok(N=10000, x0=0.1)\n",
    "    10 iterasyonda sonuca ulaşılamadı. 'hata' veya 'maxiter' değerlerini değiştirin\n",
    "    103.38412392442035\n",
    "    \n",
    "    karekok(N=10000, x0=0.1, maxiter=15)\n",
    "    100.0\n",
    "    \n",
    "Machin formülü ile Pi sayısı\n",
    "--------------------------------\n",
    "Pi sayısını hesaplamak için birçok yöntem vardır. Bunların hepsi teorik olarak $\\pi$'ye eşit olsalar da, bazıları belli bir hassasiyete ulaşmak için çok fazla hesap gerektirdikleri için pratikte işe yaramazlar. 1706'da John Machin $\\pi$ sayısı için hızlı yakınsayan, böylelikle az sayıda terimle yüksek doğruluk sağlayan bir formül yayınladı.\n",
    "\n",
    "$$\\pi = 16 \\arctan \\frac{1}{5} - 4 \\arctan \\frac{1}{239}$$\n",
    "\n",
    "Bu formüldeki arktanjant fonksiyonunu hesaplamak için bir Taylor serisi kullanılabilir.\n",
    "\n",
    "$$\\arctan x = x - \\frac{1}{3}x^3 + \\frac{1}{5}x^5 - \\frac{1}{7} x^7 + \\cdots$$\n",
    "\n",
    "Machin formülünde arktanjantı alınan sayılar küçük oldukları için, serinin az sayıda elemanıyla yüksek hassasiyeti sağlamak mümkün olacaktır.\n",
    "\n",
    "Machin formülü ile $\\pi$ sayısını yaklaşık olarak hesaplayan bir fonksiyon yazın. Fonksiyon sadece tolerans değerini parametre olarak alsın (varsayılan değer $10^{-8}$). Arktanjant fonksiyonu için matematik kütüphanesi kullanmayın, Taylor serisindeki terimleri gerekli toleransı sağlayana kadar ekleyin. Yeni eklenen terim toleransın altına düştüğünde durun.\n",
    "\n",
    "İkinci derece denklemin kökleri\n",
    "--------------------------------\n",
    "\n",
    "Bir $x$ değişkeni için genel ikinci derece denklem $ax^2 + bx + c = 0$ olarak ifade edilir. Eğer $a\\neq 0$ ise, denklemin iki kökü\n",
    "\n",
    "$$x_{1,2} = \\frac{-b \\pm \\sqrt{b^2-4ac}}{2a}$$\n",
    "\n",
    "formülüyle bulunur. Eğer $a=0$ ise çözüm $x = -c/b$ olur.\n",
    "\n",
    "Denklemin katsayıları `a`, `b` ve `c`'yi parametre olarak alan ve denklemin köklerini (ikili çokuz olarak) veren bir fonksiyon yazın. Fonksiyon `a`'nın 0 olduğu özel durumda tekli çokuz vermeli.\n",
    "\n",
    "Diskriminantın ($b^2 -4ac$) negatif olduğu durumlarda kökler reel sayı değil karmaşık sayı olacaktır. Bu durumlarda da fonksiyonun hatasız çalışması için, karmaşık sayıli matematik kütüphanesini `import cmath` komutuyla yükleyip, karekök almak için `cmath.sqrt()` fonksiyonunu kullanabilirsiniz.\n",
    "\n",
    "Örnekler:\n",
    "\n",
    "    kökler(1,0,-4)\n",
    "    ((2+0j), (-2+0j))\n",
    "    \n",
    "    kökler(1,0,4)\n",
    "    (2j, -2j)\n",
    "    \n",
    "    kökler(0,1,4)\n",
    "    -4.0\n",
    "\n",
    "Mükemmel sayılar\n",
    "------------------\n",
    "Bir sayı bütün çarpanlarının (1 dahil, kendisi hariç) toplamına eşitse, o sayıya _mükemmel sayı_ denir. Sözgelişi, 1+2+3=6 olduğundan, 6 bir mükemmel sayıdır.\n",
    "\n",
    "Verilen bir sayı \"mükemmel\"se `True`, değilse `False` veren bir fonksiyon yazın. Örnek:\n",
    "\n",
    "    mukemmel(6)\n",
    "    True\n",
    "    \n",
    "    mukemmel(10)\n",
    "    False\n",
    "    \n",
    "Bu fonksiyonu kullanarak, 10 000'den küçük bütün \"mükemmel\" sayıları bulun."
   ]
  },
  {
   "cell_type": "markdown",
   "metadata": {
    "collapsed": true
   },
   "source": [
    "# Çözümler"
   ]
  },
  {
   "cell_type": "markdown",
   "metadata": {},
   "source": [
    "# En Küçük Parametre Değeri Bulan Fonksiyon"
   ]
  },
  {
   "cell_type": "code",
   "execution_count": 5,
   "metadata": {},
   "outputs": [
    {
     "name": "stdout",
     "output_type": "stream",
     "text": [
      "1\n"
     ]
    }
   ],
   "source": [
    "def smallest(*a):\n",
    "    if len(a) == 0:\n",
    "        return None\n",
    "    smallest_number = a[0]\n",
    "    for number in a:\n",
    "        if smallest_number>number:\n",
    "            smallest_number = number\n",
    "    return smallest_number\n",
    "\n",
    "x = smallest(1,2,3) #fonksiyonu test etmek için örnek bir kullanım\n",
    "print(x)"
   ]
  },
  {
   "cell_type": "markdown",
   "metadata": {},
   "source": [
    "# Fibonacci Dizisinin İlk N Elemanını Listeleyen Fonksiyon"
   ]
  },
  {
   "cell_type": "code",
   "execution_count": 2,
   "metadata": {},
   "outputs": [
    {
     "name": "stdout",
     "output_type": "stream",
     "text": [
      "[0, 1, 1, 2, 3]\n"
     ]
    }
   ],
   "source": [
    "\n",
    "def fibonacciNumbers(n):\n",
    "    fList = []\n",
    "    f1 = 0\n",
    "    f2 = 1\n",
    "    if (n < 1):\n",
    "        return\n",
    "    fList.append(f1)\n",
    "    for x in range(1, n):\n",
    "        fList.append(f2)\n",
    "        next = f1 + f2\n",
    "        f1 = f2\n",
    "        f2 = next\n",
    "    return fList\n",
    "\n",
    "x = fibonacciNumbers(5) #fonksiyonu test etmek için örnek kullanım\n",
    "print(x)"
   ]
  },
  {
   "cell_type": "markdown",
   "metadata": {},
   "source": [
    "# Satranç Atının Olası Hareketlerini Bulan Fonksiyon"
   ]
  },
  {
   "cell_type": "code",
   "execution_count": 3,
   "metadata": {},
   "outputs": [
    {
     "name": "stdout",
     "output_type": "stream",
     "text": [
      "[('h', 3), ('d', 1), ('d', 3), ('a', 4), ('c', 4)]\n"
     ]
    }
   ],
   "source": [
    "#unity3D'de kullandığım grid ve pozisyon mantığından faydalandım\n",
    "def knights_moves(position): \n",
    "    x,y = position\n",
    "    possible_moves = [(-2,-1),(-2,+1),(+2,-1),(+2,+1),(-1,-2),(-1,+2),(+1,-2),(+1,+2)]\n",
    "    possible_positions = []\n",
    "    final_positions = []\n",
    "    locations = \"abcdefgh\"\n",
    "    counter = 0\n",
    "    for moves in possible_moves:\n",
    "        possible_position = (moves[0] + position[0], moves[1] + position[1])\n",
    "        possible_positions.append(possible_position)\n",
    "    for positions in possible_positions:\n",
    "        if positions[0]<1 or positions[1]<1 or positions[0]>8 or positions[1]>8:\n",
    "            possible_positions.pop(counter)\n",
    "        counter += 1\n",
    "    for positions in possible_positions:\n",
    "        x = (locations[positions[0]],positions[1])\n",
    "        final_positions.append(x)\n",
    "    return final_positions\n",
    "    \n",
    "x = knights_moves((1,2)) #fonksiyonu test etmek için örnek kullanım\n",
    "print(x)"
   ]
  },
  {
   "cell_type": "markdown",
   "metadata": {},
   "source": [
    "# Girilen Sayının Mükemmel Olup Olmadığını Bulan Fonksiyon"
   ]
  },
  {
   "cell_type": "code",
   "execution_count": 1,
   "metadata": {},
   "outputs": [
    {
     "name": "stdout",
     "output_type": "stream",
     "text": [
      "Mükemmel Olduğunu Düşündüğünüz Sayıyı Girin: 6\n",
      "True\n"
     ]
    }
   ],
   "source": [
    "def mukemmel(number):\n",
    "    list_of_dividors = []\n",
    "    for i in range(1,number,1):\n",
    "        if number % i == 0:\n",
    "            list_of_dividors.append(i)\n",
    "    if sum(list_of_dividors) == number:\n",
    "        return True\n",
    "    else:\n",
    "        return False\n",
    "x = int(input(\"Mükemmel Olduğunu Düşündüğünüz Sayıyı Girin: \"))\n",
    "print(mukemmel(x))"
   ]
  },
  {
   "cell_type": "markdown",
   "metadata": {},
   "source": [
    "# Machin Formülü İle Pi Sayısı"
   ]
  },
  {
   "cell_type": "code",
   "execution_count": 3,
   "metadata": {},
   "outputs": [
    {
     "name": "stdout",
     "output_type": "stream",
     "text": [
      "3.141592653589794\n"
     ]
    }
   ],
   "source": [
    "import math\n",
    "\n",
    "def pi_machin(tol):\n",
    "    def taylor_arctan(tol, x):\n",
    "        # Taylor serisinden yararlanarak arctan değerini hesaplıyoruz\n",
    "        approx = 0\n",
    "        k=0\n",
    "        j = 1\n",
    "        while abs(((-1)**k * x**j ) / j) > tol:\n",
    "            j = 2 * k + 1\n",
    "            approx += ((-1)**k * x**j ) / j\n",
    "            k += 1\n",
    "        return approx\n",
    "    def arctan(tol,x):\n",
    "    # 1'den büyük x değerlerini hesaplayabilmek için aracı fonksiyon oluşturuyoruz\n",
    "        if x > 1.0:\n",
    "            return math.pi/2.0 - taylor_arctan(tol, 1/x)\n",
    "        else:\n",
    "            return taylor_arctan(tol,x)\n",
    "    # Son olarak da machin formülünü kullanarak oluşturduğumuz fonksiyonlar\n",
    "    # aracılığıyla pi değerini hesaplıyoruz\n",
    "    return 16*arctan(tol,1/5)-4*arctan(tol,1/239)\n",
    "\n",
    "print(pi_machin(1*10**-50))"
   ]
  },
  {
   "cell_type": "markdown",
   "metadata": {},
   "source": [
    "# Babil Yöntemi İle Karekök Bulma Fonksiyonu"
   ]
  },
  {
   "cell_type": "code",
   "execution_count": 5,
   "metadata": {},
   "outputs": [
    {
     "name": "stdout",
     "output_type": "stream",
     "text": [
      "Karekök ~ 44.0\n",
      "10 iterasyon\n"
     ]
    }
   ],
   "source": [
    "import math\n",
    "\n",
    "def babil_karekok(N,x0 = 1,tol = 1*10**-10,maxiter = 10):\n",
    "    \n",
    "    value1 = math.sqrt(N)\n",
    "    counter = 0\n",
    "    while abs(x0-value1)>=tol:\n",
    "        x0 = (1/2)*(x0+(N/x0))\n",
    "        counter += 1\n",
    "        if counter >= maxiter:\n",
    "            print(f\"{counter} iterasyonda sonuca ulaşılamadı. 'tol' veya 'maxiter' değerlerini değiştirin\")\n",
    "            return 0\n",
    "    print(f\"Karekök ~ {x0}\")\n",
    "    print(f\"{counter} iterasyon\")\n",
    "\n",
    "\n",
    "babil_karekok(N=1936,maxiter=20)"
   ]
  },
  {
   "cell_type": "markdown",
   "metadata": {},
   "source": [
    "# İkinci Derece Denklemin Köklerini Bulan Fonksiyon"
   ]
  },
  {
   "cell_type": "code",
   "execution_count": 4,
   "metadata": {},
   "outputs": [
    {
     "name": "stdout",
     "output_type": "stream",
     "text": [
      "-4.0\n"
     ]
    }
   ],
   "source": [
    "import cmath\n",
    "\n",
    "def kokler(a,b,c):\n",
    "    if a != 0:\n",
    "        x1 = (-b + cmath.sqrt((b**2)-(4*a*c))) / 2*a\n",
    "        x2 = (-b - cmath.sqrt((b**2)-(4*a*c))) / 2*a\n",
    "        return ((x1),(x2))\n",
    "    elif a == 0:\n",
    "        x = -c/b\n",
    "        return x\n",
    "\n",
    "print(kokler(0,1,4))"
   ]
  }
 ],
 "metadata": {
  "kernelspec": {
   "display_name": "Python 3",
   "language": "python",
   "name": "python3"
  },
  "language_info": {
   "codemirror_mode": {
    "name": "ipython",
    "version": 3
   },
   "file_extension": ".py",
   "mimetype": "text/x-python",
   "name": "python",
   "nbconvert_exporter": "python",
   "pygments_lexer": "ipython3",
   "version": "3.8.5"
  }
 },
 "nbformat": 4,
 "nbformat_minor": 2
}
